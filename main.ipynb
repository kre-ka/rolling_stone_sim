{
 "cells": [
  {
   "cell_type": "code",
   "execution_count": null,
   "id": "3d1d7bd0",
   "metadata": {},
   "outputs": [],
   "source": [
    "%matplotlib widget\n",
    "from sim import Sim, Curve\n",
    "from sim import plot_sim_results"
   ]
  },
  {
   "cell_type": "code",
   "execution_count": null,
   "id": "36f0feaf",
   "metadata": {},
   "outputs": [],
   "source": [
    "sim = Sim(Curve())\n",
    "t, p, path_xy, x, y, _ = sim.simulate()"
   ]
  },
  {
   "cell_type": "code",
   "execution_count": null,
   "id": "1058b474",
   "metadata": {},
   "outputs": [],
   "source": [
    "anim = plot_sim_results(t, p, path_xy, x, y)"
   ]
  }
 ],
 "metadata": {
  "kernelspec": {
   "display_name": "Python 3 (ipykernel)",
   "language": "python",
   "name": "python3"
  },
  "language_info": {
   "codemirror_mode": {
    "name": "ipython",
    "version": 3
   },
   "file_extension": ".py",
   "mimetype": "text/x-python",
   "name": "python",
   "nbconvert_exporter": "python",
   "pygments_lexer": "ipython3",
   "version": "3.11.1"
  }
 },
 "nbformat": 4,
 "nbformat_minor": 5
}
