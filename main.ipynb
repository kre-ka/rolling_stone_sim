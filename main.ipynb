{
 "cells": [
  {
   "cell_type": "code",
   "execution_count": 1,
   "id": "38d3a5e9-be7a-4963-b80b-dc2e4f776d34",
   "metadata": {
    "tags": []
   },
   "outputs": [],
   "source": [
    "%matplotlib widget\n",
    "import ipywidgets as widgets\n",
    "import matplotlib.pyplot as plt\n",
    "from sim import LinearSlope, QuadraticSlope, plot_sim_results"
   ]
  },
  {
   "cell_type": "markdown",
   "id": "b0e49d79-0f14-4d38-bc3e-d86d9b8302df",
   "metadata": {},
   "source": [
    "# Linear Slope"
   ]
  },
  {
   "cell_type": "code",
   "execution_count": 2,
   "id": "bf0e26a8-16e1-4aa0-acf0-c56672a19154",
   "metadata": {
    "tags": []
   },
   "outputs": [
    {
     "data": {
      "application/vnd.jupyter.widget-view+json": {
       "model_id": "b0b02dbc669b4cd2a319f3cdd762b94e",
       "version_major": 2,
       "version_minor": 0
      },
      "text/plain": [
       "interactive(children=(FloatSlider(value=1.0, description='height', max=2.0, min=0.1), FloatSlider(value=1.0, d…"
      ]
     },
     "metadata": {},
     "output_type": "display_data"
    }
   ],
   "source": [
    "sim = LinearSlope()\n",
    "sim.model_slope()"
   ]
  },
  {
   "cell_type": "markdown",
   "id": "9dd53099-debb-410f-b0ec-7edebaaa399c",
   "metadata": {},
   "source": [
    "# Quadratic Slope"
   ]
  },
  {
   "cell_type": "code",
   "execution_count": 3,
   "id": "1137db80-f21e-4260-8a93-e5bdeaed3e26",
   "metadata": {
    "tags": []
   },
   "outputs": [
    {
     "data": {
      "application/vnd.jupyter.widget-view+json": {
       "model_id": "404d3145977e43f7bba3b391126989ab",
       "version_major": 2,
       "version_minor": 0
      },
      "text/plain": [
       "interactive(children=(FloatSlider(value=1.0, description='height', max=2.0, min=0.1), FloatSlider(value=1.0, d…"
      ]
     },
     "metadata": {},
     "output_type": "display_data"
    }
   ],
   "source": [
    "sim = QuadraticSlope()\n",
    "sim.model_slope()"
   ]
  },
  {
   "cell_type": "code",
   "execution_count": null,
   "id": "daac62f3-2bda-4eb1-aa8a-281872fab720",
   "metadata": {},
   "outputs": [],
   "source": []
  }
 ],
 "metadata": {
  "kernelspec": {
   "display_name": "Python 3 (ipykernel)",
   "language": "python",
   "name": "python3"
  },
  "language_info": {
   "codemirror_mode": {
    "name": "ipython",
    "version": 3
   },
   "file_extension": ".py",
   "mimetype": "text/x-python",
   "name": "python",
   "nbconvert_exporter": "python",
   "pygments_lexer": "ipython3",
   "version": "3.10.6"
  }
 },
 "nbformat": 4,
 "nbformat_minor": 5
}
