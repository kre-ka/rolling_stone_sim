{
 "cells": [
  {
   "cell_type": "code",
   "execution_count": null,
   "id": "3d1d7bd0",
   "metadata": {},
   "outputs": [],
   "source": [
    "%matplotlib widget\n",
    "from sim import Sim, Curve, CurveModeler\n",
    "from sim import plot_sim_results"
   ]
  },
  {
   "attachments": {},
   "cell_type": "markdown",
   "id": "618f1107",
   "metadata": {},
   "source": [
    "### Model the curve with variable parameters"
   ]
  },
  {
   "cell_type": "code",
   "execution_count": null,
   "id": "bb9bb968",
   "metadata": {},
   "outputs": [],
   "source": [
    "curve_factory = CurveModeler()\n",
    "curve_factory.model_curve()"
   ]
  },
  {
   "cell_type": "code",
   "execution_count": null,
   "id": "169a1e37",
   "metadata": {},
   "outputs": [],
   "source": [
    "curve = curve_factory.generate_curve()"
   ]
  },
  {
   "attachments": {},
   "cell_type": "markdown",
   "id": "8f075489",
   "metadata": {},
   "source": [
    "### Or define it here with sympy"
   ]
  },
  {
   "cell_type": "code",
   "execution_count": null,
   "id": "63e8fae0",
   "metadata": {},
   "outputs": [],
   "source": [
    "import sympy as sym\n",
    "from math import pi"
   ]
  },
  {
   "cell_type": "code",
   "execution_count": null,
   "id": "02cd2141",
   "metadata": {},
   "outputs": [],
   "source": [
    "t = sym.Symbol('t', real=True)\n",
    "x = 0.3*sym.cos(3*t)\n",
    "y = sym.sin(t)\n",
    "t_span = [-2.8, -pi+2.8]\n",
    "curve = Curve(t, x, y, t_span)"
   ]
  },
  {
   "attachments": {},
   "cell_type": "markdown",
   "id": "e854f5c3",
   "metadata": {},
   "source": [
    "### Simulate movement on the curve"
   ]
  },
  {
   "cell_type": "code",
   "execution_count": null,
   "id": "36f0feaf",
   "metadata": {},
   "outputs": [],
   "source": [
    "sim = Sim(curve)\n",
    "t, p, path_xy, x, y = sim.simulate(t_max=10.0, method='Radau')"
   ]
  },
  {
   "cell_type": "code",
   "execution_count": null,
   "id": "1058b474",
   "metadata": {},
   "outputs": [],
   "source": [
    "anim = plot_sim_results(t, p, path_xy, x, y,  speed=0.5)"
   ]
  },
  {
   "cell_type": "code",
   "execution_count": null,
   "id": "f06cf88c",
   "metadata": {},
   "outputs": [],
   "source": []
  }
 ],
 "metadata": {
  "kernelspec": {
   "display_name": "venv",
   "language": "python",
   "name": "python3"
  },
  "language_info": {
   "codemirror_mode": {
    "name": "ipython",
    "version": 3
   },
   "file_extension": ".py",
   "mimetype": "text/x-python",
   "name": "python",
   "nbconvert_exporter": "python",
   "pygments_lexer": "ipython3",
   "version": "3.11.1"
  },
  "vscode": {
   "interpreter": {
    "hash": "95174a36a0c1805e89fe123d70303a9dc5760f2db93bfd5045e82a62b5fb17ff"
   }
  }
 },
 "nbformat": 4,
 "nbformat_minor": 5
}
