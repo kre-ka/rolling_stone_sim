{
 "cells": [
  {
   "cell_type": "code",
   "execution_count": null,
   "id": "3d1d7bd0",
   "metadata": {},
   "outputs": [],
   "source": [
    "%matplotlib widget\n",
    "from sim import *\n",
    "import curve_examples as curves\n",
    "from curve import plot_curve\n",
    "import curve_modeler_examples as curve_modelers"
   ]
  },
  {
   "attachments": {},
   "cell_type": "markdown",
   "id": "618f1107",
   "metadata": {},
   "source": [
    "### Model the curve with variable parameters using CurveModeler"
   ]
  },
  {
   "cell_type": "markdown",
   "id": "2cd75fe2",
   "metadata": {},
   "source": [
    "Check [curve_modeler_examples.py](curve_modeler_examples.py) for more examples and how to make your own curve modeler"
   ]
  },
  {
   "cell_type": "code",
   "execution_count": null,
   "id": "1c00359c",
   "metadata": {},
   "outputs": [],
   "source": [
    "curve_modeler = curve_modelers.cos_sin_modeler()"
   ]
  },
  {
   "cell_type": "code",
   "execution_count": null,
   "id": "bb9bb968",
   "metadata": {},
   "outputs": [],
   "source": [
    "curve_modeler.model_curve()"
   ]
  },
  {
   "cell_type": "code",
   "execution_count": null,
   "id": "169a1e37",
   "metadata": {},
   "outputs": [],
   "source": [
    "curve = curve_modeler.generate_curve()"
   ]
  },
  {
   "attachments": {},
   "cell_type": "markdown",
   "id": "8f075489",
   "metadata": {},
   "source": [
    "### Or use simpler, static parameters with Curve"
   ]
  },
  {
   "cell_type": "markdown",
   "id": "faf34396",
   "metadata": {},
   "source": [
    "Check [curve_examples.py](curve_examples.py) for more examples and how to make your own curve"
   ]
  },
  {
   "cell_type": "code",
   "execution_count": null,
   "id": "63e8fae0",
   "metadata": {},
   "outputs": [],
   "source": [
    "curve = curves.teardrop_bezier()\n",
    "plot_curve(curve)"
   ]
  },
  {
   "attachments": {},
   "cell_type": "markdown",
   "id": "e854f5c3",
   "metadata": {},
   "source": [
    "### Simulate movement on the curve"
   ]
  },
  {
   "cell_type": "code",
   "execution_count": null,
   "id": "36f0feaf",
   "metadata": {},
   "outputs": [],
   "source": [
    "sim = Sim(curve)\n",
    "t, p, path_xy, x, y = sim.simulate(t_max=10.0, method='Radau')"
   ]
  },
  {
   "cell_type": "code",
   "execution_count": null,
   "id": "1058b474",
   "metadata": {},
   "outputs": [],
   "source": [
    "anim = plot_sim_results(t, p, path_xy, x, y, \n",
    "                        optional_features=('p', 'v', 'a', 'e_total', 'e_kin', 'e_pot'), \n",
    "                        speed=1.0, eval_animation=True, interval=100)"
   ]
  },
  {
   "cell_type": "code",
   "execution_count": null,
   "id": "f7c97ff9",
   "metadata": {},
   "outputs": [],
   "source": [
    "eval_frame_processing_time()"
   ]
  },
  {
   "cell_type": "code",
   "execution_count": null,
   "id": "4c1dbe55",
   "metadata": {},
   "outputs": [],
   "source": []
  }
 ],
 "metadata": {
  "kernelspec": {
   "display_name": "venv",
   "language": "python",
   "name": "python3"
  },
  "language_info": {
   "codemirror_mode": {
    "name": "ipython",
    "version": 3
   },
   "file_extension": ".py",
   "mimetype": "text/x-python",
   "name": "python",
   "nbconvert_exporter": "python",
   "pygments_lexer": "ipython3",
   "version": "3.11.1"
  },
  "vscode": {
   "interpreter": {
    "hash": "95174a36a0c1805e89fe123d70303a9dc5760f2db93bfd5045e82a62b5fb17ff"
   }
  }
 },
 "nbformat": 4,
 "nbformat_minor": 5
}
