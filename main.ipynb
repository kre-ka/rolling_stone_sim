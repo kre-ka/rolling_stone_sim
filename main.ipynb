{
 "cells": [
  {
   "cell_type": "code",
   "execution_count": null,
   "id": "3d1d7bd0",
   "metadata": {},
   "outputs": [],
   "source": [
    "%matplotlib widget\n",
    "from sim import Sim, Curve\n",
    "from sim import plot_sim_results"
   ]
  },
  {
   "cell_type": "code",
   "execution_count": null,
   "id": "36f0feaf",
   "metadata": {},
   "outputs": [],
   "source": [
    "sim = Sim(Curve())\n",
    "t, p, path_xy, x, y = sim.simulate()"
   ]
  },
  {
   "cell_type": "code",
   "execution_count": null,
   "id": "1058b474",
   "metadata": {},
   "outputs": [],
   "source": [
    "anim = plot_sim_results(t, p, path_xy, x, y)"
   ]
  },
  {
   "cell_type": "code",
   "execution_count": null,
   "id": "f06cf88c",
   "metadata": {},
   "outputs": [],
   "source": []
  }
 ],
 "metadata": {
  "kernelspec": {
   "display_name": "venv",
   "language": "python",
   "name": "python3"
  },
  "language_info": {
   "codemirror_mode": {
    "name": "ipython",
    "version": 3
   },
   "file_extension": ".py",
   "mimetype": "text/x-python",
   "name": "python",
   "nbconvert_exporter": "python",
   "pygments_lexer": "ipython3",
   "version": "3.11.1"
  },
  "vscode": {
   "interpreter": {
    "hash": "95174a36a0c1805e89fe123d70303a9dc5760f2db93bfd5045e82a62b5fb17ff"
   }
  }
 },
 "nbformat": 4,
 "nbformat_minor": 5
}
